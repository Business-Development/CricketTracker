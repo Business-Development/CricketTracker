{
  "nbformat": 4,
  "nbformat_minor": 0,
  "metadata": {
    "colab": {
      "name": "Data Preprocessing",
      "provenance": [],
      "collapsed_sections": [],
      "authorship_tag": "ABX9TyMmd5XHhJqCAiVo7mAujVSD",
      "include_colab_link": true
    },
    "kernelspec": {
      "name": "python3",
      "display_name": "Python 3"
    }
  },
  "cells": [
    {
      "cell_type": "markdown",
      "metadata": {
        "id": "view-in-github",
        "colab_type": "text"
      },
      "source": [
        "<a href=\"https://colab.research.google.com/github/anudeepayina/CricketTracker/blob/master/Data_Preprocessing.ipynb\" target=\"_parent\"><img src=\"https://colab.research.google.com/assets/colab-badge.svg\" alt=\"Open In Colab\"/></a>"
      ]
    },
    {
      "cell_type": "code",
      "metadata": {
        "id": "kX-DrG94Zs3W",
        "colab_type": "code",
        "colab": {}
      },
      "source": [
        "import pandas as pd\n",
        "import numpy as np\n",
        "from numpy import save\n",
        "from sklearn.model_selection import train_test_split"
      ],
      "execution_count": null,
      "outputs": []
    },
    {
      "cell_type": "code",
      "metadata": {
        "id": "RN07IKsaZUSi",
        "colab_type": "code",
        "colab": {}
      },
      "source": [
        "#load data\n",
        "forward_defensive_Pd = pd.read_csv(\"Forward Defensive Data.csv\")\n",
        "backfoot_defensive_Pd = pd.read_csv(\"Backfoot Defensive Data.csv\")\n",
        "cover_drive_Pd = pd.read_csv(\"Cover Drive Data.csv\")"
      ],
      "execution_count": null,
      "outputs": []
    },
    {
      "cell_type": "markdown",
      "metadata": {
        "id": "EoivEyLfDHV_",
        "colab_type": "text"
      },
      "source": [
        "Fill \"na\" with zeros"
      ]
    },
    {
      "cell_type": "code",
      "metadata": {
        "id": "rp1WtksB754H",
        "colab_type": "code",
        "colab": {}
      },
      "source": [
        "cover_drive_Pd.fillna(0,inplace=True)\n",
        "forward_defensive_Pd.fillna(0,inplace=True)\n",
        "backfoot_defensive_Pd.fillna(0,inplace=True)"
      ],
      "execution_count": null,
      "outputs": []
    },
    {
      "cell_type": "markdown",
      "metadata": {
        "id": "LpGoFX64DJ1D",
        "colab_type": "text"
      },
      "source": [
        "Reset index"
      ]
    },
    {
      "cell_type": "code",
      "metadata": {
        "id": "US208U1FgKS8",
        "colab_type": "code",
        "colab": {}
      },
      "source": [
        "cd_test = cover_drive_Pd.reset_index()\n",
        "cd_test.drop(\"index\",axis=1,inplace=True)\n",
        "fd_test = forward_defensive_Pd.reset_index()\n",
        "fd_test.drop(\"index\",axis=1,inplace=True)\n",
        "bd_test = backfoot_defensive_Pd.reset_index()\n",
        "bd_test.drop(\"index\",axis=1,inplace=True)"
      ],
      "execution_count": null,
      "outputs": []
    },
    {
      "cell_type": "markdown",
      "metadata": {
        "id": "7PvCVBTjDNeI",
        "colab_type": "text"
      },
      "source": [
        "Split data into each video"
      ]
    },
    {
      "cell_type": "code",
      "metadata": {
        "id": "MHdy8k4Aa0rm",
        "colab_type": "code",
        "colab": {}
      },
      "source": [
        "zero_index_cd = cd_test[cd_test[\"timestamp\"]==0].index.to_list()\n",
        "zero_index_n0_cd =  zero_index_cd[1:]\n",
        "zero_index_n0_cd.append(len(cd_test))\n",
        "zero_index_fd = fd_test[fd_test[\"timestamp\"]==0].index.to_list()\n",
        "zero_index_n0_fd =  zero_index_fd[1:]\n",
        "zero_index_n0_fd.append(len(fd_test))\n",
        "zero_index_bd = bd_test[bd_test[\"timestamp\"]==0].index.to_list()\n",
        "zero_index_n0_bd =  zero_index_bd[1:]\n",
        "zero_index_n0_bd.append(len(bd_test))"
      ],
      "execution_count": null,
      "outputs": []
    },
    {
      "cell_type": "code",
      "metadata": {
        "id": "BVUbXH0Ra2pT",
        "colab_type": "code",
        "colab": {}
      },
      "source": [
        "cd_test = cd_test.drop(\"timestamp\",axis=1)\n",
        "fd_test = fd_test.drop(\"timestamp\",axis=1)\n",
        "bd_test = bd_test.drop(\"timestamp\",axis=1)"
      ],
      "execution_count": null,
      "outputs": []
    },
    {
      "cell_type": "markdown",
      "metadata": {
        "id": "vYdnydgLrBId",
        "colab_type": "text"
      },
      "source": [
        "Make position at each timestamp relative to beginning position"
      ]
    },
    {
      "cell_type": "code",
      "metadata": {
        "id": "V-MhbtzKoXk7",
        "colab_type": "code",
        "colab": {}
      },
      "source": [
        "for item, num in zip (zero_index_cd,zero_index_n0_cd):\n",
        "    cd_test.loc[item:num,:] = cd_test.loc[item:num,:] - cd_test.loc[item,:]\n",
        "for item, num in zip (zero_index_bd,zero_index_n0_bd):\n",
        "    bd_test.loc[item:num,:] = bd_test.loc[item:num,:] - bd_test.loc[item,:]\n",
        "for item, num in zip (zero_index_fd,zero_index_n0_fd):\n",
        "    fd_test.loc[item:num,:] = fd_test.loc[item:num,:] - fd_test.loc[item,:]"
      ],
      "execution_count": null,
      "outputs": []
    },
    {
      "cell_type": "code",
      "metadata": {
        "id": "ksfoaye4a3PJ",
        "colab_type": "code",
        "colab": {}
      },
      "source": [
        "cover_drive = {}\n",
        "forward_defensive = {}\n",
        "backfoot_defensive = {}\n",
        "for index, num in zip(zero_index_cd,zero_index_n0_cd):\n",
        "  cover_drive[\"cd_\" + str(index)] = cd_test.iloc[index:num,:]\n",
        "for index, num in zip(zero_index_fd,zero_index_n0_fd):\n",
        "  forward_defensive[\"fd_\" + str(index)] = fd_test.iloc[index:num,:]\n",
        "for index, num in zip(zero_index_bd,zero_index_n0_bd):\n",
        "  backfoot_defensive[\"bd_\" + str(index)] = bd_test.iloc[index:num,:]  "
      ],
      "execution_count": null,
      "outputs": []
    },
    {
      "cell_type": "code",
      "metadata": {
        "id": "K_q4_DbZa8TG",
        "colab_type": "code",
        "colab": {}
      },
      "source": [
        "sequence_cd = []\n",
        "sequence_fd = []\n",
        "sequence_bd = []\n",
        "for key in cover_drive:\n",
        "  sequence_cd.append(cover_drive[key].values)\n",
        "for key in forward_defensive:\n",
        "  sequence_fd.append(forward_defensive[key].values)\n",
        "for key in backfoot_defensive:\n",
        "  sequence_bd.append(backfoot_defensive[key].values)"
      ],
      "execution_count": null,
      "outputs": []
    },
    {
      "cell_type": "markdown",
      "metadata": {
        "id": "EGFh35WYDSWy",
        "colab_type": "text"
      },
      "source": [
        "Format data so that each has video has equal length"
      ]
    },
    {
      "cell_type": "code",
      "metadata": {
        "id": "RtxKpeclulxt",
        "colab_type": "code",
        "colab": {
          "base_uri": "https://localhost:8080/",
          "height": 283
        },
        "outputId": "c1dedcec-c34e-47cd-d0a1-d9602d300baa"
      },
      "source": [
        "len_sequences = []\n",
        "for one_seq in sequence_fd:\n",
        "    len_sequences.append(len(one_seq))\n",
        "pd.Series(len_sequences).hist()"
      ],
      "execution_count": null,
      "outputs": [
        {
          "output_type": "execute_result",
          "data": {
            "text/plain": [
              "<matplotlib.axes._subplots.AxesSubplot at 0x7fc40a0cc1d0>"
            ]
          },
          "metadata": {
            "tags": []
          },
          "execution_count": 221
        },
        {
          "output_type": "display_data",
          "data": {
            "image/png": "[encoded data removed]",
            "text/plain": [
              "<Figure size 432x288 with 1 Axes>"
            ]
          },
          "metadata": {
            "tags": [],
            "needs_background": "light"
          }
        }
      ]
    },
    {
      "cell_type": "code",
      "metadata": {
        "id": "WMz0AHKVbEBh",
        "colab_type": "code",
        "colab": {}
      },
      "source": [
        "#Padding the sequence with the values in last row to max length\n",
        "to_pad = 31\n",
        "new_seq = []\n",
        "for one_seq in sequence_cd:\n",
        "    len_one_seq = len(one_seq)\n",
        "    last_val = one_seq[-1]\n",
        "    n = to_pad - len_one_seq\n",
        "   \n",
        "    to_concat = np.repeat(one_seq[-1], n).reshape(34, n).transpose()\n",
        "    new_one_seq = np.concatenate([one_seq, to_concat])\n",
        "    new_seq.append(new_one_seq)\n",
        "final_seq_cd = np.stack(new_seq)\n",
        "\n",
        "#truncate the sequence to length 24\n",
        "from keras.preprocessing import sequence\n",
        "seq_len = 24\n",
        "final_seq_cd=sequence.pad_sequences(final_seq_cd, maxlen=seq_len, padding='post', dtype='float', truncating='pre')"
      ],
      "execution_count": null,
      "outputs": []
    },
    {
      "cell_type": "code",
      "metadata": {
        "id": "nVOu_FlWbEm2",
        "colab_type": "code",
        "colab": {}
      },
      "source": [
        "#Padding the sequence with the values in last row to max length\n",
        "to_pad = 35\n",
        "new_seq = []\n",
        "for one_seq in sequence_bd:\n",
        "    len_one_seq = len(one_seq)\n",
        "    last_val = one_seq[-1]\n",
        "    n = to_pad - len_one_seq\n",
        "   \n",
        "    to_concat = np.repeat(one_seq[-1], n).reshape(34, n).transpose()\n",
        "    new_one_seq = np.concatenate([one_seq, to_concat])\n",
        "    new_seq.append(new_one_seq)\n",
        "final_seq_bd = np.stack(new_seq)\n",
        "\n",
        "#truncate the sequence to length 24\n",
        "from keras.preprocessing import sequence\n",
        "seq_len = 24\n",
        "final_seq_bd=sequence.pad_sequences(final_seq_bd, maxlen=seq_len, padding='post', dtype='float', truncating='pre')"
      ],
      "execution_count": null,
      "outputs": []
    },
    {
      "cell_type": "code",
      "metadata": {
        "id": "ZB2yXnjxbHPb",
        "colab_type": "code",
        "colab": {}
      },
      "source": [
        "#Padding the sequence with the values in last row to max length\n",
        "to_pad = 42\n",
        "new_seq = []\n",
        "for one_seq in sequence_fd:\n",
        "    len_one_seq = len(one_seq)\n",
        "    last_val = one_seq[-1]\n",
        "    n = to_pad - len_one_seq\n",
        "   \n",
        "    to_concat = np.repeat(one_seq[-1], n).reshape(34, n).transpose()\n",
        "    new_one_seq = np.concatenate([one_seq, to_concat])\n",
        "    new_seq.append(new_one_seq)\n",
        "final_seq_fd = np.stack(new_seq)\n",
        "\n",
        "#truncate the sequence to length 24\n",
        "from keras.preprocessing import sequence\n",
        "seq_len = 24\n",
        "final_seq_fd=sequence.pad_sequences(final_seq_fd, maxlen=seq_len, padding='post', dtype='float', truncating='pre')"
      ],
      "execution_count": null,
      "outputs": []
    },
    {
      "cell_type": "markdown",
      "metadata": {
        "id": "aoXZAf9of_US",
        "colab_type": "text"
      },
      "source": [
        "**Create label data**"
      ]
    },
    {
      "cell_type": "code",
      "metadata": {
        "id": "P5jU30zqPd5W",
        "colab_type": "code",
        "colab": {
          "base_uri": "https://localhost:8080/",
          "height": 35
        },
        "outputId": "329b348e-5d65-48a4-d0b0-1a185d91698f"
      },
      "source": [
        "cd_label = [\"cover drive\"]*50\n",
        "fd_label = [\"forward defensive\"]*50\n",
        "bd_label = [\"backfoot defensive\"]*50\n",
        "label_data = bd_label + cd_label + fd_label\n",
        "len(label_data)"
      ],
      "execution_count": null,
      "outputs": [
        {
          "output_type": "execute_result",
          "data": {
            "text/plain": [
              "150"
            ]
          },
          "metadata": {
            "tags": []
          },
          "execution_count": 225
        }
      ]
    },
    {
      "cell_type": "code",
      "metadata": {
        "id": "kNBJ7FEYnbHn",
        "colab_type": "code",
        "colab": {}
      },
      "source": [
        "final_seq_bd = np.array(final_seq_bd)\n",
        "final_seq_cd = np.array(final_seq_cd)\n",
        "final_seq_fd = np.array(final_seq_fd)"
      ],
      "execution_count": null,
      "outputs": []
    },
    {
      "cell_type": "code",
      "metadata": {
        "id": "3o2LLc1Vgbuw",
        "colab_type": "code",
        "colab": {}
      },
      "source": [
        "final_seq_train = np.vstack((final_seq_bd,final_seq_cd,final_seq_fd))"
      ],
      "execution_count": null,
      "outputs": []
    },
    {
      "cell_type": "code",
      "metadata": {
        "id": "u_zAuAkjnx6W",
        "colab_type": "code",
        "colab": {
          "base_uri": "https://localhost:8080/",
          "height": 35
        },
        "outputId": "894b8802-d040-4e9a-b93a-b1d5ef2a642f"
      },
      "source": [
        "final_seq_train.shape"
      ],
      "execution_count": null,
      "outputs": [
        {
          "output_type": "execute_result",
          "data": {
            "text/plain": [
              "(150, 24, 34)"
            ]
          },
          "metadata": {
            "tags": []
          },
          "execution_count": 228
        }
      ]
    },
    {
      "cell_type": "code",
      "metadata": {
        "id": "R08DsYeLTcu3",
        "colab_type": "code",
        "colab": {}
      },
      "source": [
        "x_train,x_test,y_train,y_test = train_test_split(final_seq_train,label_data,test_size = 0.25,random_state=3)"
      ],
      "execution_count": null,
      "outputs": []
    },
    {
      "cell_type": "code",
      "metadata": {
        "id": "j0E1OECOvUut",
        "colab_type": "code",
        "colab": {
          "base_uri": "https://localhost:8080/",
          "height": 35
        },
        "outputId": "01641a89-6cd6-4b98-c12d-8ff68eccd42d"
      },
      "source": [
        "len(x_train)"
      ],
      "execution_count": null,
      "outputs": [
        {
          "output_type": "execute_result",
          "data": {
            "text/plain": [
              "112"
            ]
          },
          "metadata": {
            "tags": []
          },
          "execution_count": 232
        }
      ]
    },
    {
      "cell_type": "markdown",
      "metadata": {
        "id": "SY7eqfD8cxGv",
        "colab_type": "text"
      },
      "source": [
        "**Save Files**"
      ]
    },
    {
      "cell_type": "code",
      "metadata": {
        "id": "mriM2XhMbJJU",
        "colab_type": "code",
        "colab": {}
      },
      "source": [
        "save(\"x_train\",x_train)\n",
        "save(\"x_test\",x_test)\n",
        "save(\"y_train\",y_train)\n",
        "save(\"y_test\",y_test)"
      ],
      "execution_count": null,
      "outputs": []
    }
  ]
}