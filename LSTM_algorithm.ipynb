{
  "nbformat": 4,
  "nbformat_minor": 0,
  "metadata": {
    "colab": {
      "name": "LSTM algorithm.ipynb",
      "provenance": [],
      "collapsed_sections": [],
      "authorship_tag": "ABX9TyNWJ2GFU4IeYSTQHlwuUsRR",
      "include_colab_link": true
    },
    "kernelspec": {
      "name": "python3",
      "display_name": "Python 3"
    }
  },
  "cells": [
    {
      "cell_type": "markdown",
      "metadata": {
        "id": "view-in-github",
        "colab_type": "text"
      },
      "source": [
        "<a href=\"https://colab.research.google.com/github/anudeepayina/CricketTracker/blob/master/LSTM_algorithm.ipynb\" target=\"_parent\"><img src=\"https://colab.research.google.com/assets/colab-badge.svg\" alt=\"Open In Colab\"/></a>"
      ]
    },
    {
      "cell_type": "code",
      "metadata": {
        "id": "67ffq66bc8YC",
        "colab_type": "code",
        "colab": {}
      },
      "source": [
        "import pandas as pd\n",
        "import numpy as np\n",
        "from numpy import load\n",
        "from sklearn.preprocessing import LabelEncoder\n",
        "import matplotlib.pyplot as plt\n",
        "from keras.callbacks import ModelCheckpoint, EarlyStopping"
      ],
      "execution_count": 114,
      "outputs": []
    },
    {
      "cell_type": "markdown",
      "metadata": {
        "id": "1qc071lMu0Q0",
        "colab_type": "text"
      },
      "source": [
        "Import training and testing data"
      ]
    },
    {
      "cell_type": "code",
      "metadata": {
        "id": "Y5pBAoV2dOaQ",
        "colab_type": "code",
        "colab": {}
      },
      "source": [
        "x_train = load(\"x_train.npy\")\n",
        "y_train = load(\"y_train.npy\")\n",
        "x_test = load(\"x_test.npy\")\n",
        "y_test = load(\"y_test.npy\")"
      ],
      "execution_count": 115,
      "outputs": []
    },
    {
      "cell_type": "markdown",
      "metadata": {
        "id": "TPN-60UqzIgF",
        "colab_type": "text"
      },
      "source": [
        "Label encode targets"
      ]
    },
    {
      "cell_type": "code",
      "metadata": {
        "id": "HKIxuecIyoGs",
        "colab_type": "code",
        "colab": {}
      },
      "source": [
        "le = LabelEncoder()\n",
        "y_train = le.fit_transform(y_train)\n",
        "y_test = le.fit_transform(y_test)"
      ],
      "execution_count": 116,
      "outputs": []
    },
    {
      "cell_type": "markdown",
      "metadata": {
        "id": "zTKP_m2Mu350",
        "colab_type": "text"
      },
      "source": [
        "Import model items"
      ]
    },
    {
      "cell_type": "code",
      "metadata": {
        "id": "gntGLU9UdXdc",
        "colab_type": "code",
        "colab": {}
      },
      "source": [
        "from keras.models import Sequential\n",
        "from keras.layers import LSTM, Dropout, Dense"
      ],
      "execution_count": 117,
      "outputs": []
    },
    {
      "cell_type": "markdown",
      "metadata": {
        "id": "4B0DC0I0u5hl",
        "colab_type": "text"
      },
      "source": [
        "**Create model**"
      ]
    },
    {
      "cell_type": "markdown",
      "metadata": {
        "id": "NffrbVd7wFT_",
        "colab_type": "text"
      },
      "source": [
        "Define model architecture"
      ]
    },
    {
      "cell_type": "code",
      "metadata": {
        "id": "uLBmPPLZum9V",
        "colab_type": "code",
        "colab": {}
      },
      "source": [
        "model = Sequential()\n",
        "model.add(LSTM(256,activation=\"relu\",input_shape = (24,34),return_sequences=True))\n",
        "model.add(Dropout(0.25))\n",
        "model.add(LSTM(256))\n",
        "model.add(Dense(3,activation=\"softmax\"))"
      ],
      "execution_count": 118,
      "outputs": []
    },
    {
      "cell_type": "markdown",
      "metadata": {
        "id": "5dTMvGXdwHps",
        "colab_type": "text"
      },
      "source": [
        "Compile model"
      ]
    },
    {
      "cell_type": "code",
      "metadata": {
        "id": "_vEEO_enwBFS",
        "colab_type": "code",
        "colab": {}
      },
      "source": [
        "model.compile(loss=\"sparse_categorical_crossentropy\",optimizer=\"adam\",metrics=[\"accuracy\"])"
      ],
      "execution_count": 119,
      "outputs": []
    },
    {
      "cell_type": "markdown",
      "metadata": {
        "id": "KDfpyJZK04HT",
        "colab_type": "text"
      },
      "source": [
        "Create checkpoint to collect best weights"
      ]
    },
    {
      "cell_type": "code",
      "metadata": {
        "id": "6wUUzzKY0xTZ",
        "colab_type": "code",
        "colab": {}
      },
      "source": [
        "checkpoint = ModelCheckpoint('weights.hdf5',monitor=\"val_loss\",save_best_only=True)\n",
        "earlystop = EarlyStopping(monitor=\"val_accuracy\",patience=3,mode=\"max\")\n",
        "callbackslist = [checkpoint]"
      ],
      "execution_count": 120,
      "outputs": []
    },
    {
      "cell_type": "markdown",
      "metadata": {
        "id": "JSShgojIwvq-",
        "colab_type": "text"
      },
      "source": [
        "Run model on training set"
      ]
    },
    {
      "cell_type": "code",
      "metadata": {
        "id": "DE1RUbr4wxeY",
        "colab_type": "code",
        "colab": {
          "base_uri": "https://localhost:8080/",
          "height": 381
        },
        "outputId": "1f064a2a-1991-4c18-a1e4-9ea8f585e559"
      },
      "source": [
        "training = model.fit(x_train,y_train,epochs=10,batch_size=1,validation_split=0.3,verbose=1,callbacks=callbackslist)\n",
        "history = training.history"
      ],
      "execution_count": 121,
      "outputs": [
        {
          "output_type": "stream",
          "text": [
            "Train on 78 samples, validate on 34 samples\n",
            "Epoch 1/10\n",
            "78/78 [==============================] - 6s 81ms/step - loss: 1.0278 - accuracy: 0.6026 - val_loss: 0.8050 - val_accuracy: 0.5000\n",
            "Epoch 2/10\n",
            "78/78 [==============================] - 6s 71ms/step - loss: 0.6376 - accuracy: 0.7949 - val_loss: 1.1374 - val_accuracy: 0.6471\n",
            "Epoch 3/10\n",
            "78/78 [==============================] - 6s 71ms/step - loss: 0.5388 - accuracy: 0.7821 - val_loss: 0.7001 - val_accuracy: 0.8235\n",
            "Epoch 4/10\n",
            "78/78 [==============================] - 6s 71ms/step - loss: 0.5090 - accuracy: 0.7949 - val_loss: 0.3955 - val_accuracy: 0.7647\n",
            "Epoch 5/10\n",
            "78/78 [==============================] - 5s 70ms/step - loss: 0.2114 - accuracy: 0.9103 - val_loss: 0.0946 - val_accuracy: 0.9706\n",
            "Epoch 6/10\n",
            "78/78 [==============================] - 6s 72ms/step - loss: 1.3171 - accuracy: 0.6667 - val_loss: 0.9836 - val_accuracy: 0.5294\n",
            "Epoch 7/10\n",
            "78/78 [==============================] - 6s 73ms/step - loss: 0.8318 - accuracy: 0.5769 - val_loss: 0.9104 - val_accuracy: 0.5294\n",
            "Epoch 8/10\n",
            "78/78 [==============================] - 6s 71ms/step - loss: 0.8447 - accuracy: 0.6026 - val_loss: 0.9364 - val_accuracy: 0.5294\n",
            "Epoch 9/10\n",
            "78/78 [==============================] - 6s 71ms/step - loss: 1.3483 - accuracy: 0.5385 - val_loss: 1.0947 - val_accuracy: 0.6765\n",
            "Epoch 10/10\n",
            "78/78 [==============================] - 5s 70ms/step - loss: 0.9313 - accuracy: 0.5513 - val_loss: 0.8799 - val_accuracy: 0.6176\n"
          ],
          "name": "stdout"
        }
      ]
    },
    {
      "cell_type": "markdown",
      "metadata": {
        "id": "6MjpSSqx9HT5",
        "colab_type": "text"
      },
      "source": [
        "Show accuracy variation"
      ]
    },
    {
      "cell_type": "code",
      "metadata": {
        "id": "G_ClFyIKxcGu",
        "colab_type": "code",
        "colab": {
          "base_uri": "https://localhost:8080/",
          "height": 283
        },
        "outputId": "7bcc9561-9d45-45c6-fc1b-0e72c581ed5e"
      },
      "source": [
        "plt.plot(history[\"accuracy\"])\n",
        "plt.plot(history[\"val_accuracy\"])"
      ],
      "execution_count": 122,
      "outputs": [
        {
          "output_type": "execute_result",
          "data": {
            "text/plain": [
              "[<matplotlib.lines.Line2D at 0x7f37f6501ba8>]"
            ]
          },
          "metadata": {
            "tags": []
          },
          "execution_count": 122
        },
        {
          "output_type": "display_data",
          "data": {
            "image/png": "[encoded data removed]",
            "text/plain": [
              "<Figure size 432x288 with 1 Axes>"
            ]
          },
          "metadata": {
            "tags": [],
            "needs_background": "light"
          }
        }
      ]
    },
    {
      "cell_type": "markdown",
      "metadata": {
        "id": "rtZDBzBD9JjJ",
        "colab_type": "text"
      },
      "source": [
        "Run model on test set"
      ]
    },
    {
      "cell_type": "code",
      "metadata": {
        "id": "GS4LpWg46sRZ",
        "colab_type": "code",
        "colab": {
          "base_uri": "https://localhost:8080/",
          "height": 52
        },
        "outputId": "f4489cb1-ec91-4815-8fba-52f95a9badce"
      },
      "source": [
        "#Load best model\n",
        "model.load_weights('weights.hdf5')\n",
        "#Predict using best model\n",
        "results = model.evaluate(x_test,y_test,batch_size=1)\n",
        "print(\"test loss, test acc:\", results)"
      ],
      "execution_count": 123,
      "outputs": [
        {
          "output_type": "stream",
          "text": [
            "38/38 [==============================] - 0s 8ms/step\n",
            "test loss, test acc: [0.12104645636133539, 0.9736841917037964]\n"
          ],
          "name": "stdout"
        }
      ]
    },
    {
      "cell_type": "code",
      "metadata": {
        "id": "lyc1ePQSZjI7",
        "colab_type": "code",
        "colab": {}
      },
      "source": [
        "model.save(\"my_model.h5\")"
      ],
      "execution_count": 124,
      "outputs": []
    },
    {
      "cell_type": "code",
      "metadata": {
        "id": "fyU0t4Uvakib",
        "colab_type": "code",
        "colab": {}
      },
      "source": [
        "classify_this = load(\"classify_this.npy\")"
      ],
      "execution_count": 125,
      "outputs": []
    },
    {
      "cell_type": "code",
      "metadata": {
        "id": "Uqv1nOLCbpbu",
        "colab_type": "code",
        "colab": {
          "base_uri": "https://localhost:8080/",
          "height": 35
        },
        "outputId": "d3dd2a4d-30fa-4a50-cee8-f795306fda7a"
      },
      "source": [
        "model.predict_classes(classify_this,batch_size=1,verbose=0)"
      ],
      "execution_count": 126,
      "outputs": [
        {
          "output_type": "execute_result",
          "data": {
            "text/plain": [
              "array([0, 2, 0, 2, 0, 1, 2, 2, 2])"
            ]
          },
          "metadata": {
            "tags": []
          },
          "execution_count": 126
        }
      ]
    }
  ]
}